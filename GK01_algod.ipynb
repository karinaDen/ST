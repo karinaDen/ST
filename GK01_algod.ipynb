{
 "cells": [
  {
   "attachments": {},
   "cell_type": "markdown",
   "id": "73a4b794",
   "metadata": {
    "pycharm": {
     "name": "#%% md\n"
    }
   },
   "source": [
    "# STDSR23 - Assignment-01\n",
    "\n",
    "> Karina Denisova, BS21-DS-01, @karinadenisova\n",
    "\n",
    "# Quantile implementation\n",
    "\n",
    "February 2023\n",
    "\n",
    "## Assignment description\n",
    "\n",
    "* Obtain the research paper titled [\"A Survey of Approximate Quantile Computation on Large-Scale Data\"](https://arxiv.org/pdf/2004.08255.pdf)\n",
    "\n",
    "* Select and implement one of the methods discussed in the paper, following good coding style and with appropriate comments. Your algorithm can be based on `BasicQuantileAlgorithm` class. In that case, your main implementation is in the `compute_quantile` function.\n",
    "* Prepare a report that includes\n",
    "    * A detailed explanation of the selected algorithm\n",
    "    * A listing of the pros and cons of the chosen algorithm\n",
    "* Test your implementation. More on that below in section `Test`.\n",
    "* Submit Jupyter Notebook *.ipynb* to the Moodle\n",
    "\n",
    "Note: Code style, comments, and overall organization of the report will be\n",
    "taken into account in the grading process.\n"
   ]
  },
  {
   "cell_type": "code",
   "execution_count": null,
   "outputs": [],
   "source": [
    "from typing import List\n",
    "\n",
    "class BasicQuantileAlgorithm:\n",
    "    \"\"\"\n",
    "    Abstract class for quantile computing algorithm\n",
    "    \"\"\"\n",
    "    \n",
    "    def __init__(self) -> None:\n",
    "        \"\"\"\n",
    "        Initializer for algorithm\n",
    "        \"\"\"\n",
    "    \n",
    "    def compute_quantile(self, q) -> float:\n",
    "        \"\"\"\n",
    "        Implementation of some quantile algorithm\n",
    "        \"\"\"\n",
    "        raise NotImplementedError('compute_quantile is not implemented')\n",
    "    \n",
    "    def compute(self, q) -> float:\n",
    "        assert 0.0 <= q <= 1.0, f\"q should be in [0;1]. Got {q}\"\n",
    "        \"\"\"\n",
    "        Compute the q-th quantile\n",
    "        \n",
    "        Hides implementation of _compute_quantile. \n",
    "        \n",
    "        :param q: Quantile to compute, which must be between 0 and 1 inclusive\n",
    "        :return: q-th quantile\n",
    "        \"\"\"\n",
    "        return self.compute_quantile(q)\n",
    "    \n",
    "    # NOTE: multi_compute is just a basic function\n",
    "    # for computing multiple quantile with one function call. \n",
    "    # This can be modified, so that multiple quantiles\n",
    "    # calculation become efficient. \n",
    "    def multi_compute(self, qs) -> List[float]:\n",
    "        \"\"\"\n",
    "        Compute multiple q-th quantiles\n",
    "        \n",
    "        :param qs: list of quantiles to compute, \n",
    "            all should be between 0 and 1 inclusive\n",
    "        :return: list of computed quantiles\n",
    "        \"\"\"\n",
    "        return [self.compute(q) for q in qs]"
   ],
   "metadata": {
    "collapsed": false,
    "pycharm": {
     "name": "#%%\n"
    }
   }
  },
  {
   "cell_type": "code",
   "execution_count": null,
   "outputs": [],
   "source": [
    "import numpy as np\n",
    "\n",
    "class NumpyQuantileAlgorithm(BasicQuantileAlgorithm):\n",
    "    \"\"\"\n",
    "    Example of quantile algorithm\n",
    "    \n",
    "    This algorithm implementation is \n",
    "    based on the numpy.quantile. \n",
    "    \"\"\"\n",
    "    def __init__(self):\n",
    "        \"\"\"\n",
    "        Initializer of the class. \n",
    "        \n",
    "        It initializes self.data with empty list\n",
    "        \"\"\"\n",
    "        self.data = []\n",
    "    \n",
    "    def add_item(self, item):\n",
    "        \"\"\"\n",
    "        Adds an item to the existing data\n",
    "        \"\"\"\n",
    "        self.data.append(item)\n",
    "    \n",
    "    def add_multiple_items(self, items):\n",
    "        \"\"\"\n",
    "        Adds multiple items to the existing data\n",
    "        \"\"\"\n",
    "        self.data += items\n",
    "    \n",
    "    def compute_quantile(self, q) -> float:\n",
    "        \"\"\"\n",
    "        Compute the q-th quantile\n",
    "        \n",
    "        :param q: Quantile to compute, which must be between 0 and 1 inclusive\n",
    "        :return: q-th quantile\n",
    "        \"\"\"\n",
    "        return np.quantile(self.data, q)\n",
    "    \n",
    "    # NOTE: Here, for multi_compute we\n",
    "    # can just call the same function\n",
    "    # compute_quantile, because it could\n",
    "    # take a vector of multiple quantiles.\n",
    "    # This is more efficient, than basic \n",
    "    # function call, because of the \n",
    "    # vectorized implementation.\n",
    "    def multi_compute(self, qs) -> List[float]:\n",
    "        \"\"\"\n",
    "        Compute multiple q-th quantiles\n",
    "        \n",
    "        :param qs: list of quantiles to compute, \n",
    "            all should be between 0 and 1 inclusive\n",
    "        :return: list of computed quantiles\n",
    "        \"\"\"\n",
    "        return list(self.compute_quantile(qs))"
   ],
   "metadata": {
    "collapsed": false,
    "pycharm": {
     "name": "#%%\n"
    }
   }
  },
  {
   "cell_type": "code",
   "execution_count": null,
   "outputs": [],
   "source": [
    "import math\n",
    "import numpy as np\n",
    "\n",
    "\n",
    "\"\"\"Custom quantile tuple class for representing ranges and quantities of values\"\"\"\n",
    "class Tuple:\n",
    "    \"\"\"\n",
    "    Initialize a new tuple\n",
    "    \"\"\"\n",
    "    def __init__(self, value, gap, delta):\n",
    "        self.value = value\n",
    "        self.gap = gap\n",
    "        self.delta = delta\n",
    "\n",
    "    def __str__(self):\n",
    "       return f\"Tuple(value={self.value}, gap={self.gap}, delta={self.delta})\"\n",
    "\n",
    "    def __repr__(self):\n",
    "        return self.__str__()\n",
    "\n",
    "\"\"\"Greenwlad and Khanna's algorithm (GK01) for streaming data\"\"\"\n",
    "class GK:\n",
    "    def __init__(self, epsilon):\n",
    "        self.epsilon = epsilon # The error factor. should be [0,1)\n",
    "        self.tuples = [] # The list of tuples\n",
    "        self.n = 0 #The number of observations \n",
    "\n",
    "    def estimator(self):\n",
    "        return math.floor(1.0 / (2.0 * self.epsilon))\n",
    "\n",
    "    def insert(self, v):\n",
    "        \"\"\"\n",
    "        Locates the correct position in the summary data set for the observation v, and inserts a new tuple (v,1,floor(2en)) If v is the new minimum or maximum, then instead insert tuple (v,1,0).\n",
    "        \"\"\"\n",
    "        t = Tuple(v, 1, math.floor(2.0 * self.epsilon * self.n))\n",
    "        i = self.get_insert_index(v)\n",
    "        if i == 0 or i == len(self.tuples):\n",
    "            t.delta = 0\n",
    "        self.tuples.insert(i, t)\n",
    "        self.n += 1\n",
    "        if self.should_compress():\n",
    "            self.compress()\n",
    "\n",
    "    def get_insert_index(self, v):\n",
    "        \"\"\"\n",
    "        Returns the index of the tuple t in the list of tuples.\n",
    "        Locates the proper position of v in a vector such that when v is inserted at position i, it is less then the element at i+1 if any, and greater than or equal to the element at i-1 if any.\n",
    "        \"\"\"\n",
    "        if len(self.tuples) == 0:\n",
    "            return 0\n",
    "        if v <= self.tuples[0].value:\n",
    "            return 0\n",
    "        if v >= self.tuples[-1].value:\n",
    "            return len(self.tuples)\n",
    "        left = 0\n",
    "        right = len(self.tuples) - 1\n",
    "        while left < right:\n",
    "            middle = math.floor((left + right) / 2)\n",
    "            if v < self.tuples[middle].value:\n",
    "                right = middle\n",
    "            else:\n",
    "                left = middle + 1\n",
    "        return left\n",
    "\n",
    "    def should_compress(self):\n",
    "        \"\"\"\n",
    "        Returns True if the list of tuples should be compressed, False otherwise.\n",
    "        \"\"\"\n",
    "        period = self.estimator()  # math.floor(1.0 / (2.0 * self.epsilon))\n",
    "        return self.n % period == 0\n",
    "\n",
    "    def compress(self):\n",
    "        \"\"\"\n",
    "        Remove the redundant information about quantiles\n",
    "        \"\"\"\n",
    "        s = len(self.tuples)\n",
    "        for j in range(s - 2, 1):\n",
    "            while j < len(self.tuples) - 1 and self.can_delete(j):\n",
    "                pass\n",
    "\n",
    "    def can_delete(self, i):\n",
    "        \"\"\"\n",
    "        Check if the tuple at index i can be deleted. Remove the ith tuple from the self.tuple. Only permitted if g[i] + g[i+1] + delta[i+1] < 2 * epsilon * n\n",
    "        \"\"\"\n",
    "        t1 = self.tuples[i]\n",
    "        t_next = self.tuples[i + 1]\n",
    "        threshold = math.floor(2.0 * self.epsilon * self.n)\n",
    "        if t1.delta >= t_next.delta and t1.gap + t_next.gap + t_next.delta < threshold:\n",
    "            self.tuples.pop(i)\n",
    "            t_next.gap += t1.gap\n",
    "            return True\n",
    "        return False\n",
    "\n",
    "    def compute_quantile(self, phi):\n",
    "        \"\"\"\n",
    "        Computes the quantile of the data set.\n",
    "        \"\"\"\n",
    "        if self.n == 0:\n",
    "            return 0\n",
    "        r = math.floor(phi * self.n)\n",
    "        en = self.epsilon * self.n\n",
    "\n",
    "        first = self.tuples[0]\n",
    "        prev = first.value\n",
    "        prev_rmin = first.gap\n",
    "\n",
    "        for j in range(1, len(self.tuples)):\n",
    "            t = self.tuples[j]\n",
    "            rmax = prev_rmin + t.gap + t.delta\n",
    "            if rmax > r + en:\n",
    "                return prev\n",
    "            prev_rmin += t.gap\n",
    "            prev = t.value \n",
    "        return prev\n",
    "\n"
   ],
   "metadata": {
    "collapsed": false,
    "pycharm": {
     "name": "#%%\n"
    }
   }
  },
  {
   "cell_type": "markdown",
   "source": [
    "> MY REPORT ABOUT THE ALGORITHM\n",
    "\n",
    "My data structure supports two operators:\n",
    "   1. insert(v): Add new element v\n",
    "   2. compute_quantile(p): get the estimation of the pth quantile\n",
    "insert operation simply add new tuple in the proper plase. And Since{vi} sorted we could find position of new element using binary search(it reqires O(log(n)) operations).\n",
    "\n",
    "Also I use Compress operation  in my structure to maintain a low number of tuples.\n",
    "\n",
    "If the number of currently observed elements is n, the max error of compute_quantile(p) is En(where E is parameter that defines percision of quantile estimator). This means that compute_quantile returns an element that belongs to the interval between elements with ranks (p - E)n and (p + E)n in the sorted list of observed elements.\n",
    "\n",
    "\n",
    "Pros of choosing GK01 algo: \n",
    "1. Low memory requirement. \n",
    "2. Fast computation time. \n",
    "3. Accurate estimation of quantiles. \n",
    "4. Easy to implement.\n",
    "\n",
    "Cons of choosing GK01 algo: \n",
    "1. Not suitable for datasets with high variability. \n",
    "2. Can be computationally expensive for large datasets. \n",
    "3. Can produce inaccurate estimates if the sample size is too small.\n",
    "   \n",
    "\n",
    "> Add comparison of the time and space consumption (with numpy algorithm). Plot them depending on the sample size or time if your algorithm is for time-series quantile calculation."
   ],
   "metadata": {
    "collapsed": false,
    "pycharm": {
     "name": "#%% md\n"
    }
   }
  },
  {
   "cell_type": "code",
   "execution_count": null,
   "outputs": [],
   "source": [
    "import time\n",
    "from sys import getsizeof\n",
    "from pympler import asizeof\n",
    "\n",
    "size = [100, 1000, 10000] # you can change the size of the array to the bigger ones, but is significatnly will increase time of executung. because for 1M, it executs 2 minutes.\n",
    "time_gk_arr = []\n",
    "time_np_arr = []\n",
    "time_gk_e2_arr = []\n",
    "\n",
    "space_gk_arr = []\n",
    "space_np_arr = []\n",
    "space_gk_e2_arr = []\n",
    "\n",
    "for n in size:\n",
    "    gk = GK(0.001) # creating a GK object with error 0.001\n",
    "    gk_e2 = GK(0.2) # creating a GK object with error 0.2\n",
    "    nump = NumpyQuantileAlgorithm() # creating a numpuy.quantile object for treking memory usage\n",
    "    arr = np.random.normal(0, 1, n) # filling array with random, normaly distributed numbers and inserting them into the algos\n",
    "    for i in range(0, n):\n",
    "        gk.insert(arr[i])\n",
    "        nump.add_item(arr[i])\n",
    "        gk_e2.insert(arr[i])\n",
    "        \n",
    "    # compute execution times and memory usage for all the algos and put them into arrays    \n",
    "    s_t = time.time()\n",
    "    gk.compute_quantile(0.5)\n",
    "    e_t = time.time()\n",
    "    time_gk_arr.append(e_t - s_t)\n",
    "\n",
    "    space_gk_arr.append(asizeof.asizeof(gk))\n",
    "\n",
    "    s_t = time.time()\n",
    "    gk_e2.compute_quantile(0.5)\n",
    "    e_t = time.time()\n",
    "    time_gk_e2_arr.append(e_t - s_t)\n",
    "\n",
    "    space_gk_e2_arr.append(asizeof.asizeof(gk_e2))\n",
    "    \n",
    "    s_t = time.time()\n",
    "    nump.compute_quantile(0.5)\n",
    "    e_t = time.time()\n",
    "    time_np_arr.append(e_t - s_t)\n",
    "\n",
    "    space_np_arr.append(asizeof.asizeof(nump))\n",
    "\n",
    "# print(time_gk_arr)\n",
    "# print(time_gk_e2_arr)\n",
    "# print(time_np_arr)\n",
    "# print(space_gk_arr)\n",
    "# print(space_gk_e2_arr)\n",
    "# print(space_np_arr)"
   ],
   "metadata": {
    "collapsed": false,
    "pycharm": {
     "name": "#%%\n"
    }
   }
  },
  {
   "cell_type": "code",
   "execution_count": null,
   "outputs": [],
   "source": [
    "import matplotlib.pyplot as plt\n",
    "\n",
    "plt.figure(figsize=(15, 10))\n",
    "\n",
    "\n",
    "plt.subplot(131)\n",
    "plt.plot(time_gk_arr, space_gk_arr, '-bo', color='m', label='Greenwlad-Khanna(e=0.001)')\n",
    "plt.plot(time_gk_e2_arr, space_gk_e2_arr, '-bo', color='g', label='Greenwlad-Khanna(e=0.2)')\n",
    "plt.plot(time_np_arr, space_np_arr, '-bo', color='pink', label='numpy')\n",
    "plt.xlabel('Time (s)')\n",
    "plt.ylabel('Space (bytes)')\n",
    "plt.legend(shadow=True, fancybox=True)\n",
    "\n",
    "\n",
    "plt.subplot(132)\n",
    "plt.plot(size, space_gk_arr, '-bo', color='m')\n",
    "plt.plot(size, space_np_arr, '-bo', color='pink')\n",
    "plt.plot(size, space_gk_e2_arr, '-bo', color='g')\n",
    "\n",
    "plt.xlabel('Size of array')\n",
    "plt.ylabel('Space (bytes)')\n",
    "\n",
    "plt.subplot(133)\n",
    "plt.plot(size, time_gk_arr, '-bo', color='m')\n",
    "plt.plot(size, time_np_arr, '-bo', color='pink')\n",
    "plt.plot(size, time_gk_e2_arr, '-bo', color='g')\n",
    "\n",
    "plt.xlabel('Size of array')\n",
    "plt.ylabel('Time (s)')\n",
    "\n",
    "\n",
    "\n",
    "plt.show()"
   ],
   "metadata": {
    "collapsed": false,
    "pycharm": {
     "name": "#%%\n"
    }
   }
  },
  {
   "cell_type": "markdown",
   "source": [
    "## Test\n",
    "\n",
    "Here you need to show that your algorithm is working properly.\n",
    "1. Take `normal` distribution. Show, that with increase in sample size, quantiles calculated with your algorithms are become very close to the `inverse cdf` of the distribution. \n",
    "\n",
    "2. Perform the same experiment with any other continuous distribution (exponential, logistic, etc.)"
   ],
   "metadata": {
    "collapsed": false,
    "pycharm": {
     "name": "#%% md\n"
    }
   }
  },
  {
   "cell_type": "code",
   "execution_count": null,
   "outputs": [],
   "source": [
    "#comparison of inverse CDF for normal distribution\n",
    "from scipy import stats\n",
    "from statistics import NormalDist\n",
    "# res = NormalDist(mu=1, sigma=0.5).inv_cdf(0.5)\n",
    "# print(res)\n",
    "\n",
    "size = [100, 1000, 10000, 100000] # testing sample sizes\n",
    "quantiles_arr = [] #array with values of the quantiles\n",
    "inverse_cdf_arr = [] #array with vquantiles of the inverse cdf\n",
    "\n",
    "for n in size:\n",
    "    gk = GK(0.001)  #creating a GK object with error 0.001\n",
    "    arr = np.random.normal(0, 1, n) # filling array with random, normaly distributed numbers and inserting them into the algos\n",
    "    for i in range(0, n):\n",
    "        gk.insert(arr[i])\n",
    "    inverse_cdf_arr.append(NormalDist.from_samples(arr).inv_cdf(0.5)) # calculating the inverse cdf of the array\n",
    "    quantiles_arr.append(gk.compute_quantile(0.5)) # calculating the quantiles of the array\n",
    "\n",
    "plt.plot(size, quantiles_arr, '-bo', color='m', label=\"GK01\")\n",
    "plt.plot(size, inverse_cdf_arr, '-bo', color='pink', label=\"inverse cdf\")\n",
    "plt.legend(shadow=True, fancybox=True)\n",
    "plt.xlabel('sample size')\n",
    "plt.ylabel('quantile')\n",
    "plt.show()"
   ],
   "metadata": {
    "collapsed": false,
    "pycharm": {
     "name": "#%%\n"
    }
   }
  },
  {
   "cell_type": "code",
   "execution_count": null,
   "outputs": [],
   "source": [
    "#comparison of inverse CDF for normal distribution(2nd, better way)\n",
    "from scipy import stats\n",
    "\n",
    "size = [100, 1000, 10000, 100000] # testing sample sizes\n",
    "quantiles_arr = [] #array with values of the quantiles\n",
    "inverse_cdf_arr = [] #array with vquantiles of the inverse cdf\n",
    "\n",
    "for n in size:\n",
    "    gk = GK(0.001)  #creating a GK object with error 0.001\n",
    "    arr = np.random.normal(0, 1, n) # filling array with random, normaly distributed numbers and inserting them into the gk\n",
    "    for i in range(0, n):\n",
    "        gk.insert(arr[i])\n",
    "\n",
    "    inverse_cdf_arr.append(stats.norm.ppf(0.5)) # calculating the inverse cdf of the array\n",
    "    quantiles_arr.append(gk.compute_quantile(0.5)) # calculating the quantiles of the array\n",
    "\n",
    "\n",
    "plt.plot(size, quantiles_arr, '-bo', color='m', label=\"GK01\")\n",
    "plt.plot(size, inverse_cdf_arr, '-bo', color='pink', label=\"inverse cdf\")\n",
    "plt.legend(shadow=True, fancybox=True)\n",
    "plt.xlabel('sample size')\n",
    "plt.ylabel('quantile')\n",
    "plt.show()"
   ],
   "metadata": {
    "collapsed": false,
    "pycharm": {
     "name": "#%%\n"
    }
   }
  },
  {
   "cell_type": "code",
   "execution_count": null,
   "outputs": [],
   "source": [
    "#comparison of inverse CDF for exponential distribution\n",
    "\n",
    "from scipy import stats\n",
    "\n",
    "size = [100, 1000, 10000, 100000, 1000000] # testing sample sizes\n",
    "quantiles_arr = [] #array with values of the quantiles\n",
    "inverse_cdf_arr = [] #array with vquantiles of the inverse cdf\n",
    "\n",
    "for n in size:\n",
    "    gk = GK(0.001)  #creating a GK object with error 0.001\n",
    "    arr = np.random.exponential(1, n) # filling array with random, exponentialy distributed numbers and inserting them into the gk\n",
    "    for i in range(0, n):\n",
    "        gk.insert(arr[i])\n",
    "\n",
    "    inverse_cdf_arr.append(stats.expon.ppf(0.5)) # calculating the inverse cdf of the array\n",
    "    quantiles_arr.append(gk.compute_quantile(0.5)) # calculating the quantiles of the array\n",
    "\n",
    "\n",
    "plt.plot(size, quantiles_arr, '-bo', color='m', label=\"GK01\")\n",
    "plt.plot(size, inverse_cdf_arr, '-bo', color='pink', label=\"inverse cdf\")\n",
    "plt.legend(shadow=True, fancybox=True)\n",
    "plt.xlabel('sample size')\n",
    "plt.ylabel('quantile')\n",
    "plt.show()"
   ],
   "metadata": {
    "collapsed": false,
    "pycharm": {
     "name": "#%%\n"
    }
   }
  },
  {
   "cell_type": "markdown",
   "source": [
    "Perform an experiment that shows the main purpose of the algorithm. \n",
    "\n",
    "For example, some algorithms are created especially for time series data, so you should show that your algorithm is working in time series environment properly."
   ],
   "metadata": {
    "collapsed": false,
    "pycharm": {
     "name": "#%% md\n"
    }
   }
  },
  {
   "cell_type": "code",
   "execution_count": null,
   "outputs": [],
   "source": [
    "\"\"\"\n",
    "as this was shown in the graphics earlier? for the small samples GK01, takes less time than numpy, => this is useful for such caces\n",
    "\"\"\""
   ],
   "metadata": {
    "collapsed": false,
    "pycharm": {
     "name": "#%%\n"
    }
   }
  },
  {
   "cell_type": "markdown",
   "id": "00cae979",
   "metadata": {
    "pycharm": {
     "name": "#%% md\n"
    }
   },
   "source": [
    "Perform an experiment that shows the main purpose of the algorithm. \n",
    "\n",
    "For example, some algorithms are created especially for time series data, so you should show that your algorithm is working in time series environment properly."
   ]
  },
  {
   "cell_type": "code",
   "execution_count": null,
   "id": "19dedcae",
   "metadata": {
    "pycharm": {
     "name": "#%%\n"
    }
   },
   "outputs": [],
   "source": [
    "\"\"\"\n",
    "as this was shown in the graphics earlier? for the small samples GK01, takes less time than numpy, => this is useful for such caces\n",
    "\"\"\""
   ]
  },
  {
   "cell_type": "markdown",
   "id": "7e6b0e75",
   "metadata": {
    "pycharm": {
     "name": "#%% md\n"
    }
   },
   "source": [
    "- [ ] Submit to Moodle!"
   ]
  }
 ],
 "metadata": {
  "kernelspec": {
   "display_name": "base",
   "language": "python",
   "name": "python3"
  },
  "language_info": {
   "codemirror_mode": {
    "name": "ipython",
    "version": 3
   },
   "file_extension": ".py",
   "mimetype": "text/x-python",
   "name": "python",
   "nbconvert_exporter": "python",
   "pygments_lexer": "ipython3",
   "version": "3.9.13"
  },
  "vscode": {
   "interpreter": {
    "hash": "379cfd87b2ead8e551d1d89388cee76e5e66285a4d2efe6bda4f5009d5345b89"
   }
  }
 },
 "nbformat": 4,
 "nbformat_minor": 5
}
